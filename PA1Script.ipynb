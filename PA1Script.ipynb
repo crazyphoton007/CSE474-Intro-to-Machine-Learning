{
 "cells": [
  {
   "cell_type": "markdown",
   "metadata": {},
   "source": [
    "# CSE474/574 - Programming Assignment 1\n",
    "\n",
    "For grading, we will execute the submitted notebook as follows:\n",
    "\n",
    "```shell\n",
    "jupyter nbconvert --to python PA1Script.ipynb\n",
    "python PA1Script.py\n",
    "```"
   ]
  },
  {
   "cell_type": "code",
   "execution_count": 1,
   "metadata": {},
   "outputs": [],
   "source": [
    "import numpy as np\n",
    "from scipy.optimize import minimize\n",
    "import matplotlib.pyplot as plt\n",
    "import pickle"
   ]
  },
  {
   "cell_type": "markdown",
   "metadata": {},
   "source": [
    "## Part 1 - Linear Regression"
   ]
  },
  {
   "cell_type": "markdown",
   "metadata": {},
   "source": [
    "### Problem 1 - Linear Regression with Direct Minimization"
   ]
  },
  {
   "cell_type": "code",
   "execution_count": 2,
   "metadata": {},
   "outputs": [
    {
     "name": "stdout",
     "output_type": "stream",
     "text": [
      "PROBLEM 1\n",
      "----------\n"
     ]
    }
   ],
   "source": [
    "print('PROBLEM 1')\n",
    "print('----------')"
   ]
  },
  {
   "cell_type": "code",
   "execution_count": 3,
   "metadata": {},
   "outputs": [],
   "source": [
    "def learnOLERegression(X,y):\n",
    "    # Inputs:                                                         \n",
    "    # X = N x d \n",
    "    # y = N x 1                                                               \n",
    "    # Output: \n",
    "    # w = d x 1 \n",
    "    # Formula w=(X'X)^-1 (X'y)\n",
    "    \n",
    "    X_transpose = X.transpose()\n",
    "    w=((np.linalg.inv(X_transpose.dot(X))).dot(X_transpose.dot(y)))\n",
    "    \n",
    "    #w=np.dot(np.linalg.inv(np.dot(X_transpose,(X))),(np.dot(X_transpose,(y))))\n",
    "\n",
    "    return w"
   ]
  },
  {
   "cell_type": "code",
   "execution_count": 4,
   "metadata": {},
   "outputs": [],
   "source": [
    "import math\n",
    "def testOLERegression(w,Xtest,ytest):\n",
    "    # Inputs:\n",
    "    # w = d x 1\n",
    "    # Xtest = N x d\n",
    "    # ytest = N x 1\n",
    "    # Output:\n",
    "    # rmse = scalar value\n",
    "    \n",
    "    a=Xtest.shape #to get the N value\n",
    "    t=np.subtract(ytest,(Xtest.dot(w)))\n",
    "    q=t.transpose()\n",
    "    rmse=math.sqrt((1/a[0])*((q).dot(t)))\n",
    "    \n",
    "    return rmse"
   ]
  },
  {
   "cell_type": "code",
   "execution_count": 5,
   "metadata": {},
   "outputs": [
    {
     "name": "stdout",
     "output_type": "stream",
     "text": [
      "RMSE without intercept on train data - 138.20\n",
      "RMSE with intercept on train data - 46.77\n",
      "RMSE without intercept on test data - 326.76\n",
      "RMSE with intercept on test data - 60.89\n"
     ]
    }
   ],
   "source": [
    "Xtrain,ytrain,Xtest,ytest = pickle.load(open('diabetes.pickle','rb'),encoding='latin1')   \n",
    "# add intercept\n",
    "x1 = np.ones((len(Xtrain),1))\n",
    "x2 = np.ones((len(Xtest),1))\n",
    "\n",
    "Xtrain_i = np.concatenate((np.ones((Xtrain.shape[0],1)), Xtrain), axis=1)\n",
    "Xtest_i = np.concatenate((np.ones((Xtest.shape[0],1)), Xtest), axis=1)\n",
    "\n",
    "w = learnOLERegression(Xtrain,ytrain)\n",
    "w_i = learnOLERegression(Xtrain_i,ytrain)\n",
    "\n",
    "rmse = testOLERegression(w,Xtrain,ytrain)\n",
    "rmse_i = testOLERegression(w_i,Xtrain_i,ytrain)\n",
    "print('RMSE without intercept on train data - %.2f'%rmse)\n",
    "print('RMSE with intercept on train data - %.2f'%rmse_i)\n",
    "\n",
    "rmse = testOLERegression(w,Xtest,ytest)\n",
    "rmse_i = testOLERegression(w_i,Xtest_i,ytest)\n",
    "print('RMSE without intercept on test data - %.2f'%rmse)\n",
    "print('RMSE with intercept on test data - %.2f'%rmse_i)\n"
   ]
  },
  {
   "cell_type": "markdown",
   "metadata": {},
   "source": [
    "### Problem 2 - Linear Regression with Gradient Descent"
   ]
  },
  {
   "cell_type": "code",
   "execution_count": 6,
   "metadata": {},
   "outputs": [
    {
     "name": "stdout",
     "output_type": "stream",
     "text": [
      "PROBLEM 2\n",
      "----------\n"
     ]
    }
   ],
   "source": [
    "print('PROBLEM 2')\n",
    "print('----------')"
   ]
  },
  {
   "cell_type": "code",
   "execution_count": 7,
   "metadata": {},
   "outputs": [],
   "source": [
    "count=0"
   ]
  },
  {
   "cell_type": "code",
   "execution_count": 8,
   "metadata": {},
   "outputs": [],
   "source": [
    "count=0\n",
    "def regressionObjVal(w, X, y):\n",
    "\n",
    "    # compute squared error (scalar) with respect\n",
    "    # to w (vector) for the given data X and y      \n",
    "    #\n",
    "    # Inputs:\n",
    "    # w = d x 1\n",
    "    # X = N x d\n",
    "    # y = N x 1\n",
    "    # Output:\n",
    "    # error = scalar value\n",
    "\n",
    "    # IMPLEMENT THIS METHOD - REMOVE THE NEXT LINE\n",
    "    #formula-J(w) = 1/2((y − Xw)' (y − Xw))\n",
    "    w=w.reshape(X.shape[1],1)\n",
    "    t = (y-(X.dot(w))) #(y − Xw)\n",
    "    q = t.transpose() #(y − Xw)'\n",
    "    \n",
    "    error = ((1/2)*(q.dot(t))) #J(w) = 1/2((y − Xw)' (y − Xw))\n",
    "    \n",
    "    #print(error.shape)\n",
    "    \n",
    "    #print(error[0,0])\n",
    "    return error.item()"
   ]
  },
  {
   "cell_type": "code",
   "execution_count": 9,
   "metadata": {},
   "outputs": [],
   "source": [
    "def regressionGradient(w, X, y):\n",
    "\n",
    "    # compute gradient of squared error (scalar) with respect\n",
    "    # to w (vector) for the given data X and y   \n",
    "    \n",
    "    # Inputs:\n",
    "    # w = d x 1\n",
    "    # X = N x d \n",
    "    # y = N x 1\n",
    "    # X'= d x N\n",
    "    # Xw = N x 1\n",
    "    # Output:\n",
    "    # gradient = d length vector (not a d x 1 matrix)\n",
    "\n",
    "    # IMPLEMENT THIS METHOD - REMOVE THE NEXT LINE \n",
    "    #∇J(w) = X'Xw − X'y\n",
    "    X_transpose = X.transpose()\n",
    "    w=w.reshape(X.shape[1],1)\n",
    "    error_grad=((X_transpose.dot(X).dot(w))-(X_transpose.dot(y)))\n",
    "#     X_dot_w=X.dot(w);\n",
    "#     X_dot_w=X_dot_w-y;\n",
    "#     error_grad=X_transpose.dot(X_dot_w);\n",
    "    \n",
    "#     for ele in range(0,len(error_grad[0])):\n",
    "#         ls_error.append(error_grad[0,ele])\n",
    "    \n",
    "    #error_grad=np.asarray(error_grad).reshape(-1)\n",
    "    \n",
    "    #return np.array(ls_error)\n",
    "    \n",
    "    \n",
    "#     a = np.ones((X.shape[1],))\n",
    "#     for i in range(X.shape[1]):\n",
    "#         a[i]=error_grad[i]\n",
    "   \n",
    "   \n",
    " #     print(X.shape[1])\n",
    "#     print(X.shape[0])\n",
    "#     print(type(w))\n",
    "#     print(error_grad.shape)\n",
    "    \n",
    "    error_grad=error_grad.reshape(X.shape[1],)\n",
    "#     print(error_grad.shape)\n",
    "\n",
    "\n",
    "    \n",
    "    return error_grad\n"
   ]
  },
  {
   "cell_type": "code",
   "execution_count": 10,
   "metadata": {},
   "outputs": [
    {
     "name": "stdout",
     "output_type": "stream",
     "text": [
      "Gradient Descent Linear Regression RMSE on train data - 48.20\n",
      "Gradient Descent Linear Regression RMSE on test data - 54.67\n"
     ]
    }
   ],
   "source": [
    "Xtrain,ytrain,Xtest,ytest = pickle.load(open('diabetes.pickle','rb'),encoding='latin1')   \n",
    "# add intercept\n",
    "Xtrain_i = np.concatenate((np.ones((Xtrain.shape[0],1)), Xtrain), axis=1)\n",
    "Xtest_i = np.concatenate((np.ones((Xtest.shape[0],1)), Xtest), axis=1)\n",
    "args = (Xtrain_i,ytrain)\n",
    "opts = {'maxiter' : 50}    # Preferred value.    \n",
    "w_init = np.zeros((Xtrain_i.shape[1],1))\n",
    "soln = minimize(regressionObjVal, w_init, jac=regressionGradient, args=args,method='CG', options=opts)\n",
    "w = np.transpose(np.array(soln.x))\n",
    "w = w[:,np.newaxis]\n",
    "rmse = testOLERegression(w,Xtrain_i,ytrain)\n",
    "print('Gradient Descent Linear Regression RMSE on train data - %.2f'%rmse)\n",
    "rmse = testOLERegression(w,Xtest_i,ytest)\n",
    "print('Gradient Descent Linear Regression RMSE on test data - %.2f'%rmse)"
   ]
  },
  {
   "cell_type": "markdown",
   "metadata": {},
   "source": [
    "## Part 2 - Linear Classification"
   ]
  },
  {
   "cell_type": "markdown",
   "metadata": {},
   "source": [
    "### Problem 3 - Perceptron using Gradient Descent"
   ]
  },
  {
   "cell_type": "code",
   "execution_count": 11,
   "metadata": {},
   "outputs": [
    {
     "name": "stdout",
     "output_type": "stream",
     "text": [
      "PROBLEM 3\n",
      "----------\n"
     ]
    }
   ],
   "source": [
    "print('PROBLEM 3')\n",
    "print('----------')"
   ]
  },
  {
   "cell_type": "code",
   "execution_count": 12,
   "metadata": {},
   "outputs": [],
   "source": [
    "def predictLinearModel(w,Xtest):\n",
    "    # Inputs:\n",
    "    # w = d x 1\n",
    "    # Xtest = N x d\n",
    "    # Output:\n",
    "    # ypred = N x 1 vector of predictions\n",
    "    \n",
    "#     w=w.reshape(X.shape[1],1)\n",
    "#     w_t=w.transpose()\n",
    "#     y=Xtest.dot(w)\n",
    "#     ypred = np.zeros([Xtest.shape[0],1])\n",
    "#     for i in range(Xtest.shape[0]):\n",
    "        \n",
    "#         if y[i]>=0:\n",
    "#             y[i]=1\n",
    "#         else:\n",
    "#             y[i]=-1\n",
    "            \n",
    "    \n",
    "#     #Xtrain[0].reshape(64,1)\n",
    "#     ypred=regressionObjVal(w, Xtest,y)\n",
    "\n",
    "    w=w.reshape(Xtest.shape[1],1)\n",
    "#     w_t=w.transpose()\n",
    "#     y=Xtest.dot(w)\n",
    "#     ypred = np.zeros([Xtest.shape[0],1])\n",
    "#     for i in range(Xtest.shape[0]):\n",
    "        \n",
    "#         if y[i]>=0:\n",
    "#             ypred[i]=regressionObjVal(w, Xtest,1)\n",
    "#         else:\n",
    "#             ypred[i]=regressionObjVal(w, Xtest,-1)\n",
    "# #     ypred=regressionObjVal(w, Xtest,y)\n",
    "#     print(ypred.shape)\n",
    "\n",
    "    \n",
    "    y=np.dot(Xtest,w)\n",
    "    ypred = np.zeros([Xtest.shape[0],1])\n",
    "    for i in range(Xtest.shape[0]):\n",
    "        \n",
    "        if y[i]>=0:\n",
    "            ypred[i]=1\n",
    "        else:\n",
    "            ypred[i]=-1\n",
    "\n",
    "    \n",
    "    \n",
    "    return ypred"
   ]
  },
  {
   "cell_type": "code",
   "execution_count": 124,
   "metadata": {},
   "outputs": [],
   "source": [
    "def evaluateLinearModel(w,Xtest,ytest):\n",
    "    # Inputs:\n",
    "    # w = d x 1\n",
    "    # Xtest = N x d\n",
    "    # ytest = N x 1\n",
    "    # Output:\n",
    "    # acc = scalar values\n",
    "    acc=0\n",
    "    ypred=predictLinearModel(w,Xtest);\n",
    "    acc=0\n",
    "    for i in range(ytest.shape[0]):\n",
    "        if (ypred[i]==ytest[i]):\n",
    "            acc=acc+1\n",
    "            \n",
    "    acc=acc/ytest.shape[0]\n",
    "    \n",
    "\n",
    "   \n",
    "    \n",
    "\n",
    "    \n",
    "    #print(acc)\n",
    "    return acc"
   ]
  },
  {
   "cell_type": "code",
   "execution_count": 125,
   "metadata": {},
   "outputs": [
    {
     "name": "stdout",
     "output_type": "stream",
     "text": [
      "Perceptron Accuracy on train data - 0.84\n",
      "Perceptron Accuracy on test data - 0.84\n"
     ]
    }
   ],
   "source": [
    "Xtrain,ytrain, Xtest, ytest = pickle.load(open('sample.pickle','rb')) \n",
    "# add intercept\n",
    "Xtrain_i = np.concatenate((np.ones((Xtrain.shape[0],1)), Xtrain), axis=1)\n",
    "Xtest_i = np.concatenate((np.ones((Xtest.shape[0],1)), Xtest), axis=1)\n",
    "\n",
    "args = (Xtrain_i,ytrain)\n",
    "opts = {'maxiter' : 50}    # Preferred value.    \n",
    "w_init = np.zeros((Xtrain_i.shape[1],1))\n",
    "soln = minimize(regressionObjVal, w_init, jac=regressionGradient, args=args,method='CG', options=opts)\n",
    "w = np.transpose(np.array(soln.x))\n",
    "w = w[:,np.newaxis]\n",
    "pw=w\n",
    "w_Perceptron=w\n",
    "acc = evaluateLinearModel(w,Xtrain_i,ytrain)\n",
    "print('Perceptron Accuracy on train data - %.2f'%acc)\n",
    "acc = evaluateLinearModel(w,Xtest_i,ytest)\n",
    "print('Perceptron Accuracy on test data - %.2f'%acc)"
   ]
  },
  {
   "cell_type": "markdown",
   "metadata": {},
   "source": [
    "### Problem 4 - Logistic Regression Using Newton's Method"
   ]
  },
  {
   "cell_type": "code",
   "execution_count": 15,
   "metadata": {},
   "outputs": [
    {
     "name": "stdout",
     "output_type": "stream",
     "text": [
      "PROBLEM 4\n",
      "----------\n"
     ]
    }
   ],
   "source": [
    "print('PROBLEM 4')\n",
    "print('----------')"
   ]
  },
  {
   "cell_type": "code",
   "execution_count": 16,
   "metadata": {},
   "outputs": [],
   "source": [
    "def logisticObjVal(w, X, y):\n",
    "\n",
    "    # compute log-loss error (scalar) with respect\n",
    "    # to w (vector) for the given data X and y                               \n",
    "    # Inputs:\n",
    "    # w = d x 1\n",
    "    # X = N x d\n",
    "    # y = N x 1\n",
    "    # Output:\n",
    "    # error = scalar\n",
    "    \n",
    "    \n",
    "#     if len(w.shape) == 1:\n",
    "#         w = w[:,np.newaxis]\n",
    "        \n",
    "#     sh=X.shape    \n",
    "#     w=w.transpose()\n",
    "#     a=0\n",
    "#     w1=0\n",
    "    \n",
    "#     for i in range(len(X)):\n",
    "#         a=a+math.log(1+math.exp(-y[i]*(w).dot(X[i])))\n",
    "#     error=(1/sh[0])*a\n",
    "# #     print(sh[1])\n",
    "    \n",
    "# #     print(w.dot(X[1]))\n",
    "# #     print(w)\n",
    "# #     for i in range(len(X)):\n",
    "# #         w1=0\n",
    "# #         for j in range(sh[1]):\n",
    "# #             w1=w1+((0*(X[i][j])))\n",
    "        \n",
    "# #         a=a+math.log(1+math.exp(-y[i]*w1))\n",
    "# #     print(a)    \n",
    "# #     error=(1/sh[0])*a\n",
    "#     print(error)      \n",
    "\n",
    "    if len(w.shape) == 1:\n",
    "        w = w[:,np.newaxis]\n",
    "    else:\n",
    "        w=w.reshape(X.shape[1],1)\n",
    "#     print(y)\n",
    "    error=0\n",
    "    w_t=w.transpose()\n",
    "    for i in range(X.shape[0]):\n",
    "        error=error+math.log(1+ math.exp(-y[i]*(X[i]).dot(w)))\n",
    "    # IMPLEMENT THIS METHOD - REMOVE THE NEXT LINE\n",
    "    error=error/X.shape[0]\n",
    "    #print(error)\n",
    "    \n",
    "\n",
    "    return error\n",
    "\n"
   ]
  },
  {
   "cell_type": "code",
   "execution_count": 17,
   "metadata": {},
   "outputs": [],
   "source": [
    "def logisticGradient(w, X, y):\n",
    "\n",
    "    # compute the gradient of the log-loss error (vector) with respect\n",
    "    # to w (vector) for the given data X and y  \n",
    "    #\n",
    "    # Inputs:\n",
    "    # w = d x 1\n",
    "    # X = N x d\n",
    "    # y = N x 1\n",
    "    # Output:\n",
    "    # error = d length gradient vector (not a d x 1 matrix)\n",
    "\n",
    "    if len(w.shape) == 1:\n",
    "        w = w[:,np.newaxis]\n",
    "    else:\n",
    "        w=w.reshape(X.shape[1],1)\n",
    "    \n",
    "#     print(w.shape)\n",
    "#     print(X.shape)\n",
    "#     print(y.shape)\n",
    "    a = np.zeros([X.shape[1],])\n",
    "    w=w.transpose()\n",
    "    \n",
    "    \n",
    "    \n",
    "    for i in range(len(X)):\n",
    "        a=a+((y[i]/(1+math.exp(y[i]*((w).dot(X[i])))))*(X[i]))\n",
    "    \n",
    "    gradient=-(1/len(X))*a\n",
    "    #print(gradient)\n",
    "    return gradient"
   ]
  },
  {
   "cell_type": "code",
   "execution_count": 126,
   "metadata": {},
   "outputs": [],
   "source": [
    "def logisticHessian(w, X, y):\n",
    "\n",
    "    # compute the Hessian of the log-loss error (matrix) with respect\n",
    "    # to w (vector) for the given data X and y                               \n",
    "    #\n",
    "    # Inputs:\n",
    "    # w = d x 1\n",
    "    # X = N x d\n",
    "    # y = N x 1\n",
    "    # Output:\n",
    "    # Hessian = d x d matrix\n",
    "    \n",
    "    if len(w.shape) == 1:\n",
    "        w = w[:,np.newaxis]\n",
    "        \n",
    "    else:\n",
    "        w=w.reshape(X.shape[1],1)\n",
    "    \n",
    "    \n",
    "    hessian = np.zeros([w.shape[0],w.shape[0]])\n",
    "    w=w.transpose()\n",
    "    \n",
    "    X_transpose=X.transpose()\n",
    "    xx=(X.dot(X_transpose))\n",
    "    xx=xx.flatten()\n",
    "    #xx=xx.reshape((X.shape[1],(X.shape[1])))\n",
    "                   \n",
    "    for i in range(len(X)):\n",
    "        hessian=hessian+((math.exp(y[i]*((w).dot(X[i]))))/(math.pow((1+math.exp(y[i]*((w).dot(X[i])))),2)))*(xx[i])\n",
    "        \n",
    "        \n",
    "    hessian=(1/len(X))*hessian\n",
    "    #print(hessian.shape)\n",
    "#     hessian=np.zeros([X.shape[1],X.shape[1]])\n",
    "#     hessian = np.eye(X.shape[1])\n",
    "    #print(hessian)\n",
    "    return hessian"
   ]
  },
  {
   "cell_type": "code",
   "execution_count": 127,
   "metadata": {
    "scrolled": true
   },
   "outputs": [
    {
     "name": "stdout",
     "output_type": "stream",
     "text": [
      "Logistic Regression Accuracy on train data - 0.84\n",
      "Logistic Regression Accuracy on test data - 0.86\n"
     ]
    }
   ],
   "source": [
    "Xtrain,ytrain, Xtest, ytest = pickle.load(open('sample.pickle','rb')) \n",
    "# add intercept\n",
    "Xtrain_i = np.concatenate((np.ones((Xtrain.shape[0],1)), Xtrain), axis=1)\n",
    "Xtest_i = np.concatenate((np.ones((Xtest.shape[0],1)), Xtest), axis=1)\n",
    "\n",
    "args = (Xtrain_i,ytrain)\n",
    "opts = {'maxiter' : 50}    # Preferred value.    \n",
    "w_init = np.zeros((Xtrain_i.shape[1],1))\n",
    "soln = minimize(logisticObjVal, w_init, jac=logisticGradient, hess=logisticHessian, args=args,method='Newton-CG', options=opts)\n",
    "w = np.transpose(np.array(soln.x))\n",
    "w = np.reshape(w,[len(w),1])\n",
    "lw=w\n",
    "acc = evaluateLinearModel(w,Xtrain_i,ytrain)\n",
    "print('Logistic Regression Accuracy on train data - %.2f'%acc)\n",
    "acc = evaluateLinearModel(w,Xtest_i,ytest)\n",
    "print('Logistic Regression Accuracy on test data - %.2f'%acc)"
   ]
  },
  {
   "cell_type": "markdown",
   "metadata": {},
   "source": [
    "### Problem 5 - Support Vector Machines Using Gradient Descent"
   ]
  },
  {
   "cell_type": "code",
   "execution_count": 20,
   "metadata": {},
   "outputs": [
    {
     "name": "stdout",
     "output_type": "stream",
     "text": [
      "PROBLEM 5\n",
      "----------\n"
     ]
    }
   ],
   "source": [
    "print('PROBLEM 5')\n",
    "print('----------')"
   ]
  },
  {
   "cell_type": "code",
   "execution_count": 128,
   "metadata": {},
   "outputs": [],
   "source": [
    "import random\n",
    "def trainSGDSVM(X,y,T,eta=0.01):\n",
    "    # learn a linear SVM by implementing the SGD algorithm\n",
    "    #\n",
    "    # Inputs:\n",
    "    # X = N x d\n",
    "    # y = N x 1\n",
    "    # T = number of iterations\n",
    "    # eta = learning rate\n",
    "    # Output:\n",
    "    # weight vector, w = d x 1\n",
    "    \n",
    "    # IMPLEMENT THIS METHOD\n",
    "    w=np.zeros([X.shape[1],1])\n",
    "    import random \n",
    "    for a in range(T):\n",
    "        i = random.choice(range(0,X.shape[0]-1))\n",
    "        temp1=X[i].reshape([1,X.shape[1]])\n",
    "        temp=np.dot(temp1,w)\n",
    "        temp=temp.item()\n",
    "        temp=y[i].item()*temp\n",
    "        if(temp<1):\n",
    "\n",
    "            term=(np.dot(y[i],temp1))\n",
    "            term=term.reshape([X.shape[1],1])\n",
    "            w=w+(eta*term)\n",
    "    w=w.reshape([X.shape[1],1])\n",
    "\n",
    "    \n",
    "\n",
    "\n",
    "    \n",
    "    \n",
    "\n",
    " \n",
    "    return w"
   ]
  },
  {
   "cell_type": "code",
   "execution_count": 129,
   "metadata": {},
   "outputs": [
    {
     "name": "stdout",
     "output_type": "stream",
     "text": [
      "SVM Accuracy on train data - 0.84\n",
      "SVM Accuracy on test data - 0.86\n"
     ]
    }
   ],
   "source": [
    "Xtrain,ytrain, Xtest, ytest = pickle.load(open('sample.pickle','rb')) \n",
    "# add intercept\n",
    "Xtrain_i = np.concatenate((np.ones((Xtrain.shape[0],1)), Xtrain), axis=1)\n",
    "Xtest_i = np.concatenate((np.ones((Xtest.shape[0],1)), Xtest), axis=1)\n",
    "\n",
    "args = (Xtrain_i,ytrain)\n",
    "w = trainSGDSVM(Xtrain_i,ytrain,200,0.01)\n",
    "acc = evaluateLinearModel(w,Xtrain_i,ytrain)\n",
    "print('SVM Accuracy on train data - %.2f'%acc)\n",
    "acc = evaluateLinearModel(w,Xtest_i,ytest)\n",
    "print('SVM Accuracy on test data - %.2f'%acc)"
   ]
  },
  {
   "cell_type": "markdown",
   "metadata": {},
   "source": [
    "### Problem 6 - Plotting decision boundaries"
   ]
  },
  {
   "cell_type": "code",
   "execution_count": 99,
   "metadata": {},
   "outputs": [
    {
     "name": "stdout",
     "output_type": "stream",
     "text": [
      "Problem 6\n",
      "---------\n"
     ]
    }
   ],
   "source": [
    "print('Problem 6')\n",
    "print('---------')"
   ]
  },
  {
   "cell_type": "code",
   "execution_count": 103,
   "metadata": {},
   "outputs": [],
   "source": [
    "def plotBoundaries(w,X,y):\n",
    "    # plotting boundaries\n",
    "\n",
    "    mn = np.min(X,axis=0)\n",
    "    mx = np.max(X,axis=0)\n",
    "    x1 = np.linspace(mn[1],mx[1],100)\n",
    "    x2 = np.linspace(mn[2],mx[2],100)\n",
    "    xx1,xx2 = np.meshgrid(x1,x2)\n",
    "    xx = np.zeros((x1.shape[0]*x2.shape[0],2))\n",
    "    xx[:,0] = xx1.ravel()\n",
    "    xx[:,1] = xx2.ravel()\n",
    "    xx_i = np.concatenate((np.ones((xx.shape[0],1)), xx), axis=1)\n",
    "    ypred = predictLinearModel(w,xx_i)\n",
    "    ax.contourf(x1,x2,ypred.reshape((x1.shape[0],x2.shape[0])),alpha=0.3,cmap='cool')\n",
    "    ax.scatter(X[:,1],X[:,2],c=y.flatten())"
   ]
  },
  {
   "cell_type": "code",
   "execution_count": 105,
   "metadata": {},
   "outputs": [
    {
     "data": {
      "text/plain": [
       "Text(0.5,1,'SVM')"
      ]
     },
     "execution_count": 105,
     "metadata": {},
     "output_type": "execute_result"
    },
    {
     "data": {
      "image/png": "[encoded data removed]",
      "text/plain": [
       "<Figure size 1440x432 with 3 Axes>"
      ]
     },
     "metadata": {
      "needs_background": "light"
     },
     "output_type": "display_data"
    }
   ],
   "source": [
    "# Xtrain,ytrain, Xtest, ytest = pickle.load(open('sample.pickle','rb'))\n",
    "# # add intercept\n",
    "# Xtrain_i = np.concatenate((np.ones((Xtrain.shape[0],1)), Xtrain), axis=1)\n",
    "# Xtest_i = np.concatenate((np.ones((Xtest.shape[0],1)), Xtest), axis=1)\n",
    "# # Replace next three lines with code for learning w using the three methods\n",
    "# # PLUS,if needed, you can add at most extra 2 lines for each model.\n",
    "# # w_perceptron = np.zeros((Xtrain_i.shape[1],1))\n",
    "# w_perceptron=w_Perceptron\n",
    "# # w_logistic = np.zeros((Xtrain_i.shape[1],1))\n",
    "# # w_svm = np.zeros((Xtrain_i.shape[1],1))\n",
    "# w_svm = trainSGDSVM(Xtest_i,ytest,250,eta=0.01)\n",
    "# args = (Xtest_i,ytest)\n",
    "# opts = {'maxiter' : 50} \n",
    "# # Preferred value.    \n",
    "# w_init = np.zeros((Xtest_i.shape[1],1))\n",
    "# soln = minimize(regressionObjVal, w_init, jac=regressionGradient, args=args,method='CG', options=opts)\n",
    "# w = np.transpose(np.array(soln.x))\n",
    "# w = w[:,np.newaxis]\n",
    "# w_Perceptron=w\n",
    "# args = (Xtest_i,ytest)\n",
    "# opts = {'maxiter' : 50}\n",
    "# # Preferred value\n",
    "# w_init = np.zeros((Xtest_i.shape[1],1))\n",
    "# soln = minimize(logisticObjVal, w_init, jac=logisticGradient, hess=logisticHessian, args=args,method='Newton-CG', options=opts)\n",
    "# w = np.transpose(np.array(soln.x))\n",
    "# w = np.reshape(w,[len(w),1])\n",
    "# w_logistic=w\n",
    "\n",
    "# fig = plt.figure(figsize=(20,6))\n",
    "# ax = plt.subplot(1,3,1)\n",
    "# plotBoundaries(w_perceptron,Xtest_i,ytrain)\n",
    "# ax.set_title('Perceptron')\n",
    "\n",
    "\n",
    "# ax = plt.subplot(1,3,2)\n",
    "# plotBoundaries(w_logistic,Xtrain_i,ytrain)\n",
    "# ax.set_title('Logistic Regression')\n",
    "\n",
    "# ax = plt.subplot(1,3,3)\n",
    "# plotBoundaries(w_svm,Xtrain_i,ytrain)\n",
    "# ax.set_title('SVM')\n",
    "\n"
   ]
  },
  {
   "cell_type": "code",
   "execution_count": 108,
   "metadata": {},
   "outputs": [
    {
     "data": {
      "image/png": "[encoded data removed]",
      "text/plain": [
       "<Figure size 1440x432 with 3 Axes>"
      ]
     },
     "metadata": {
      "needs_background": "light"
     },
     "output_type": "display_data"
    }
   ],
   "source": [
    "Xtrain,ytrain, Xtest, ytest = pickle.load(open('sample.pickle','rb'))\n",
    "# add intercept\n",
    "Xtrain_i = np.concatenate((np.ones((Xtrain.shape[0],1)), Xtrain), axis=1)\n",
    "Xtest_i = np.concatenate((np.ones((Xtest.shape[0],1)), Xtest), axis=1)\n",
    "# Replace next three lines with code for learning w using the three methods\n",
    "# PLUS,if needed, you can add at most extra 2 lines for each model.\n",
    "# w_perceptron = np.zeros((Xtrain_i.shape[1],1))\n",
    "\n",
    "# w_logistic = np.zeros((Xtrain_i.shape[1],1))\n",
    "# w_svm = np.zeros((Xtrain_i.shape[1],1))\n",
    "w_svm = trainSGDSVM(Xtrain_i,ytrain,250,eta=0.01)\n",
    "args = (Xtrain_i,ytrain)\n",
    "opts = {'maxiter' : 50} \n",
    "# Preferred value.    \n",
    "w_init = np.zeros((Xtrain_i.shape[1],1))\n",
    "soln = minimize(regressionObjVal, w_init, jac=regressionGradient, args=args,method='CG', options=opts)\n",
    "w = np.transpose(np.array(soln.x))\n",
    "w = w[:,np.newaxis]\n",
    "w_Perceptron=w\n",
    "args = (Xtrain_i,ytrain)\n",
    "opts = {'maxiter' : 50}\n",
    "# Preferred value\n",
    "w_init = np.zeros((Xtrain_i.shape[1],1))\n",
    "soln = minimize(logisticObjVal, w_init, jac=logisticGradient, hess=logisticHessian, args=args,method='Newton-CG', options=opts)\n",
    "w = np.transpose(np.array(soln.x))\n",
    "w = np.reshape(w,[len(w),1])\n",
    "w_logistic=w\n",
    "\n",
    "fig = plt.figure(figsize=(20,6))\n",
    "ax = plt.subplot(1,3,1)\n",
    "plotBoundaries(w_perceptron,Xtest_i,ytest)\n",
    "ax.set_title('Perceptron')\n",
    "\n",
    "\n",
    "ax = plt.subplot(1,3,2)\n",
    "plotBoundaries(w_logistic,Xtest_i,ytest)\n",
    "ax.set_title('Logistic Regression')\n",
    "\n",
    "ax = plt.subplot(1,3,3)\n",
    "plotBoundaries(w_svm,Xtest_i,ytest)\n",
    "ax.set_title('SVM')\n",
    "\n",
    "plt.savefig('P16.png',dpi=300,bbox_inches='tight')"
   ]
  },
  {
   "cell_type": "code",
   "execution_count": null,
   "metadata": {},
   "outputs": [],
   "source": []
  }
 ],
 "metadata": {
  "anaconda-cloud": {},
  "kernelspec": {
   "display_name": "Python 3",
   "language": "python",
   "name": "python3"
  },
  "language_info": {
   "codemirror_mode": {
    "name": "ipython",
    "version": 3
   },
   "file_extension": ".py",
   "mimetype": "text/x-python",
   "name": "python",
   "nbconvert_exporter": "python",
   "pygments_lexer": "ipython3",
   "version": "3.7.0"
  }
 },
 "nbformat": 4,
 "nbformat_minor": 1
}
